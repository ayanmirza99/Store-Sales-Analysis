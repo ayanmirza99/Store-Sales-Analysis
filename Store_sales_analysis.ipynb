{
 "cells": [
  {
   "cell_type": "markdown",
   "id": "df33991e",
   "metadata": {},
   "source": [
    "# Analysis"
   ]
  },
  {
   "cell_type": "markdown",
   "id": "1c8c5c2a",
   "metadata": {},
   "source": [
    "## Importing necessary libraries"
   ]
  },
  {
   "cell_type": "code",
   "execution_count": 1,
   "id": "0effe842",
   "metadata": {},
   "outputs": [],
   "source": [
    "import pandas as pd\n",
    "import matplotlib.pyplot as plt\n",
    "import numpy as np\n",
    "import os\n",
    "%matplotlib inline"
   ]
  },
  {
   "cell_type": "markdown",
   "id": "29bd907e",
   "metadata": {},
   "source": [
    "## Task #1: Merge all csv files into a dataset"
   ]
  },
  {
   "cell_type": "code",
   "execution_count": 2,
   "id": "482ff401",
   "metadata": {},
   "outputs": [
    {
     "data": {
      "text/html": [
       "<div>\n",
       "<style scoped>\n",
       "    .dataframe tbody tr th:only-of-type {\n",
       "        vertical-align: middle;\n",
       "    }\n",
       "\n",
       "    .dataframe tbody tr th {\n",
       "        vertical-align: top;\n",
       "    }\n",
       "\n",
       "    .dataframe thead th {\n",
       "        text-align: right;\n",
       "    }\n",
       "</style>\n",
       "<table border=\"1\" class=\"dataframe\">\n",
       "  <thead>\n",
       "    <tr style=\"text-align: right;\">\n",
       "      <th></th>\n",
       "      <th>Order ID</th>\n",
       "      <th>Product</th>\n",
       "      <th>Quantity Ordered</th>\n",
       "      <th>Price Each</th>\n",
       "      <th>Order Date</th>\n",
       "      <th>Purchase Address</th>\n",
       "    </tr>\n",
       "  </thead>\n",
       "  <tbody>\n",
       "    <tr>\n",
       "      <th>0</th>\n",
       "      <td>176558</td>\n",
       "      <td>USB-C Charging Cable</td>\n",
       "      <td>2</td>\n",
       "      <td>11.95</td>\n",
       "      <td>04/19/19 08:46</td>\n",
       "      <td>917 1st St, Dallas, TX 75001</td>\n",
       "    </tr>\n",
       "    <tr>\n",
       "      <th>1</th>\n",
       "      <td>NaN</td>\n",
       "      <td>NaN</td>\n",
       "      <td>NaN</td>\n",
       "      <td>NaN</td>\n",
       "      <td>NaN</td>\n",
       "      <td>NaN</td>\n",
       "    </tr>\n",
       "    <tr>\n",
       "      <th>2</th>\n",
       "      <td>176559</td>\n",
       "      <td>Bose SoundSport Headphones</td>\n",
       "      <td>1</td>\n",
       "      <td>99.99</td>\n",
       "      <td>04/07/19 22:30</td>\n",
       "      <td>682 Chestnut St, Boston, MA 02215</td>\n",
       "    </tr>\n",
       "    <tr>\n",
       "      <th>3</th>\n",
       "      <td>176560</td>\n",
       "      <td>Google Phone</td>\n",
       "      <td>1</td>\n",
       "      <td>600</td>\n",
       "      <td>04/12/19 14:38</td>\n",
       "      <td>669 Spruce St, Los Angeles, CA 90001</td>\n",
       "    </tr>\n",
       "    <tr>\n",
       "      <th>4</th>\n",
       "      <td>176560</td>\n",
       "      <td>Wired Headphones</td>\n",
       "      <td>1</td>\n",
       "      <td>11.99</td>\n",
       "      <td>04/12/19 14:38</td>\n",
       "      <td>669 Spruce St, Los Angeles, CA 90001</td>\n",
       "    </tr>\n",
       "  </tbody>\n",
       "</table>\n",
       "</div>"
      ],
      "text/plain": [
       "  Order ID                     Product Quantity Ordered Price Each  \\\n",
       "0   176558        USB-C Charging Cable                2      11.95   \n",
       "1      NaN                         NaN              NaN        NaN   \n",
       "2   176559  Bose SoundSport Headphones                1      99.99   \n",
       "3   176560                Google Phone                1        600   \n",
       "4   176560            Wired Headphones                1      11.99   \n",
       "\n",
       "       Order Date                      Purchase Address  \n",
       "0  04/19/19 08:46          917 1st St, Dallas, TX 75001  \n",
       "1             NaN                                   NaN  \n",
       "2  04/07/19 22:30     682 Chestnut St, Boston, MA 02215  \n",
       "3  04/12/19 14:38  669 Spruce St, Los Angeles, CA 90001  \n",
       "4  04/12/19 14:38  669 Spruce St, Los Angeles, CA 90001  "
      ]
     },
     "execution_count": 2,
     "metadata": {},
     "output_type": "execute_result"
    }
   ],
   "source": [
    "files = [file for file in os.listdir(\"./data\")]\n",
    "df = pd.DataFrame()\n",
    "for file in files:\n",
    "    temp_df = pd.read_csv(\"./data/\"+file)\n",
    "    df = pd.concat([df, temp_df])\n",
    "    \n",
    "df.head()"
   ]
  },
  {
   "cell_type": "code",
   "execution_count": 3,
   "id": "0ad5061f",
   "metadata": {},
   "outputs": [
    {
     "data": {
      "text/plain": [
       "(186850, 6)"
      ]
     },
     "execution_count": 3,
     "metadata": {},
     "output_type": "execute_result"
    }
   ],
   "source": [
    "df.shape"
   ]
  },
  {
   "cell_type": "markdown",
   "id": "32a932d3",
   "metadata": {},
   "source": [
    "## Augment data with additional columns"
   ]
  },
  {
   "cell_type": "markdown",
   "id": "0f06b731",
   "metadata": {},
   "source": [
    "## Task #2: Add a 'Month' column "
   ]
  },
  {
   "cell_type": "code",
   "execution_count": 4,
   "id": "9e17bc49",
   "metadata": {},
   "outputs": [
    {
     "data": {
      "text/html": [
       "<div>\n",
       "<style scoped>\n",
       "    .dataframe tbody tr th:only-of-type {\n",
       "        vertical-align: middle;\n",
       "    }\n",
       "\n",
       "    .dataframe tbody tr th {\n",
       "        vertical-align: top;\n",
       "    }\n",
       "\n",
       "    .dataframe thead th {\n",
       "        text-align: right;\n",
       "    }\n",
       "</style>\n",
       "<table border=\"1\" class=\"dataframe\">\n",
       "  <thead>\n",
       "    <tr style=\"text-align: right;\">\n",
       "      <th></th>\n",
       "      <th>Order ID</th>\n",
       "      <th>Product</th>\n",
       "      <th>Quantity Ordered</th>\n",
       "      <th>Price Each</th>\n",
       "      <th>Order Date</th>\n",
       "      <th>Purchase Address</th>\n",
       "      <th>Month</th>\n",
       "    </tr>\n",
       "  </thead>\n",
       "  <tbody>\n",
       "    <tr>\n",
       "      <th>83</th>\n",
       "      <td>150582</td>\n",
       "      <td>Lightning Charging Cable</td>\n",
       "      <td>1</td>\n",
       "      <td>14.95</td>\n",
       "      <td>02/16/19 23:38</td>\n",
       "      <td>678 Maple St, Seattle, WA 98101</td>\n",
       "      <td>02</td>\n",
       "    </tr>\n",
       "    <tr>\n",
       "      <th>15880</th>\n",
       "      <td>274504</td>\n",
       "      <td>USB-C Charging Cable</td>\n",
       "      <td>1</td>\n",
       "      <td>11.95</td>\n",
       "      <td>10/01/19 14:21</td>\n",
       "      <td>623 Forest St, San Francisco, CA 94016</td>\n",
       "      <td>10</td>\n",
       "    </tr>\n",
       "    <tr>\n",
       "      <th>9812</th>\n",
       "      <td>185924</td>\n",
       "      <td>Apple Airpods Headphones</td>\n",
       "      <td>1</td>\n",
       "      <td>150</td>\n",
       "      <td>04/13/19 14:07</td>\n",
       "      <td>484 5th St, San Francisco, CA 94016</td>\n",
       "      <td>04</td>\n",
       "    </tr>\n",
       "    <tr>\n",
       "      <th>6553</th>\n",
       "      <td>200317</td>\n",
       "      <td>Lightning Charging Cable</td>\n",
       "      <td>2</td>\n",
       "      <td>14.95</td>\n",
       "      <td>05/06/19 19:09</td>\n",
       "      <td>370 13th St, Los Angeles, CA 90001</td>\n",
       "      <td>05</td>\n",
       "    </tr>\n",
       "    <tr>\n",
       "      <th>10581</th>\n",
       "      <td>204142</td>\n",
       "      <td>Lightning Charging Cable</td>\n",
       "      <td>1</td>\n",
       "      <td>14.95</td>\n",
       "      <td>05/12/19 20:50</td>\n",
       "      <td>439 Cherry St, Portland, ME 04101</td>\n",
       "      <td>05</td>\n",
       "    </tr>\n",
       "    <tr>\n",
       "      <th>14395</th>\n",
       "      <td>273100</td>\n",
       "      <td>AAA Batteries (4-pack)</td>\n",
       "      <td>1</td>\n",
       "      <td>2.99</td>\n",
       "      <td>10/13/19 23:20</td>\n",
       "      <td>938 Main St, Seattle, WA 98101</td>\n",
       "      <td>10</td>\n",
       "    </tr>\n",
       "  </tbody>\n",
       "</table>\n",
       "</div>"
      ],
      "text/plain": [
       "      Order ID                   Product Quantity Ordered Price Each  \\\n",
       "83      150582  Lightning Charging Cable                1      14.95   \n",
       "15880   274504      USB-C Charging Cable                1      11.95   \n",
       "9812    185924  Apple Airpods Headphones                1        150   \n",
       "6553    200317  Lightning Charging Cable                2      14.95   \n",
       "10581   204142  Lightning Charging Cable                1      14.95   \n",
       "14395   273100    AAA Batteries (4-pack)                1       2.99   \n",
       "\n",
       "           Order Date                        Purchase Address Month  \n",
       "83     02/16/19 23:38         678 Maple St, Seattle, WA 98101    02  \n",
       "15880  10/01/19 14:21  623 Forest St, San Francisco, CA 94016    10  \n",
       "9812   04/13/19 14:07     484 5th St, San Francisco, CA 94016    04  \n",
       "6553   05/06/19 19:09      370 13th St, Los Angeles, CA 90001    05  \n",
       "10581  05/12/19 20:50       439 Cherry St, Portland, ME 04101    05  \n",
       "14395  10/13/19 23:20          938 Main St, Seattle, WA 98101    10  "
      ]
     },
     "execution_count": 4,
     "metadata": {},
     "output_type": "execute_result"
    }
   ],
   "source": [
    "df['Month'] = df['Order Date'].str[:2]\n",
    "df.sample(6)\n",
    "# Can't convert 'Month' to int as there are some NaN values so first have to tackle that"
   ]
  },
  {
   "cell_type": "code",
   "execution_count": 5,
   "id": "05cd614e",
   "metadata": {},
   "outputs": [
    {
     "data": {
      "text/plain": [
       "(545, 7)"
      ]
     },
     "execution_count": 5,
     "metadata": {},
     "output_type": "execute_result"
    }
   ],
   "source": [
    "temp = df[df.isnull().any(axis=1)]\n",
    "temp.shape"
   ]
  },
  {
   "cell_type": "code",
   "execution_count": 6,
   "id": "89597f65",
   "metadata": {},
   "outputs": [
    {
     "data": {
      "text/plain": [
       "Order ID            0.002917\n",
       "Product             0.002917\n",
       "Quantity Ordered    0.002917\n",
       "Price Each          0.002917\n",
       "Order Date          0.002917\n",
       "Purchase Address    0.002917\n",
       "Month               0.002917\n",
       "dtype: float64"
      ]
     },
     "execution_count": 6,
     "metadata": {},
     "output_type": "execute_result"
    }
   ],
   "source": [
    "null_count = df.isnull().sum()\n",
    "null_ratio = null_count/len(df)\n",
    "null_ratio"
   ]
  },
  {
   "cell_type": "markdown",
   "id": "8c765d6a",
   "metadata": {},
   "source": [
    "There are 537 null value rows having all columns null. They make around 0.2% of our entire so we can remove them."
   ]
  },
  {
   "cell_type": "code",
   "execution_count": 7,
   "id": "5f05efd9",
   "metadata": {},
   "outputs": [],
   "source": [
    "df = df.dropna()"
   ]
  },
  {
   "cell_type": "code",
   "execution_count": 8,
   "id": "fa96082b",
   "metadata": {},
   "outputs": [
    {
     "data": {
      "text/plain": [
       "Order ID            0\n",
       "Product             0\n",
       "Quantity Ordered    0\n",
       "Price Each          0\n",
       "Order Date          0\n",
       "Purchase Address    0\n",
       "Month               0\n",
       "dtype: int64"
      ]
     },
     "execution_count": 8,
     "metadata": {},
     "output_type": "execute_result"
    }
   ],
   "source": [
    "df.isnull().sum()"
   ]
  },
  {
   "cell_type": "code",
   "execution_count": 9,
   "id": "e17217b8",
   "metadata": {},
   "outputs": [],
   "source": [
    "# Some rows have a string 'Or' in their 'Month' column we have to remove them also\n",
    "df = df[df['Month']!=\"Or\"]"
   ]
  },
  {
   "cell_type": "code",
   "execution_count": 10,
   "id": "6050784d",
   "metadata": {},
   "outputs": [
    {
     "data": {
      "text/plain": [
       "Order ID            0\n",
       "Product             0\n",
       "Quantity Ordered    0\n",
       "Price Each          0\n",
       "Order Date          0\n",
       "Purchase Address    0\n",
       "Month               0\n",
       "dtype: int64"
      ]
     },
     "execution_count": 10,
     "metadata": {},
     "output_type": "execute_result"
    }
   ],
   "source": [
    "df[df['Month']=='Or'].count()"
   ]
  },
  {
   "cell_type": "code",
   "execution_count": 11,
   "id": "0ca6e11f",
   "metadata": {},
   "outputs": [],
   "source": [
    "# Now we can convert the 'Month' column into int data type\n",
    "df[['Month', 'Price Each', 'Quantity Ordered']] = df[['Month', 'Price Each', 'Quantity Ordered']].apply(pd.to_numeric)"
   ]
  },
  {
   "cell_type": "code",
   "execution_count": 12,
   "id": "8f044da1",
   "metadata": {},
   "outputs": [
    {
     "data": {
      "text/plain": [
       "dtype('int64')"
      ]
     },
     "execution_count": 12,
     "metadata": {},
     "output_type": "execute_result"
    }
   ],
   "source": [
    "df['Month'].dtype"
   ]
  },
  {
   "cell_type": "markdown",
   "id": "1d602d01",
   "metadata": {},
   "source": [
    "## Task #3: Add a 'Sales' column"
   ]
  },
  {
   "cell_type": "code",
   "execution_count": 13,
   "id": "483ad6ee",
   "metadata": {
    "scrolled": true
   },
   "outputs": [],
   "source": [
    "df['Sales'] = df['Quantity Ordered']*df['Price Each']"
   ]
  },
  {
   "cell_type": "markdown",
   "id": "26ed8992",
   "metadata": {},
   "source": [
    "## <span style=\"color: Red\">Question 1: What was the best month for sales? How much was earned in that month?</span>"
   ]
  },
  {
   "cell_type": "code",
   "execution_count": 14,
   "id": "c5046b16",
   "metadata": {
    "scrolled": true
   },
   "outputs": [
    {
     "data": {
      "text/plain": [
       "('4,613,443.34', 12, '1,822,256.73', 1)"
      ]
     },
     "execution_count": 14,
     "metadata": {},
     "output_type": "execute_result"
    }
   ],
   "source": [
    "ms_df = df.groupby('Month')\n",
    "max_sales_month = ms_df['Sales'].sum().idxmax()\n",
    "max_sales = ms_df['Sales'].sum().max()\n",
    "min_sales = ms_df['Sales'].sum().min()\n",
    "min_sales_month = ms_df['Sales'].sum().idxmin()\n",
    "\"{:,}\".format(max_sales), max_sales_month, \"{:,}\".format(min_sales), min_sales_month"
   ]
  },
  {
   "cell_type": "code",
   "execution_count": 15,
   "id": "7fe2e97c",
   "metadata": {
    "collapsed": true
   },
   "outputs": [
    {
     "data": {
      "image/png": "[encoded data removed]",
      "text/plain": [
       "<Figure size 640x480 with 1 Axes>"
      ]
     },
     "metadata": {},
     "output_type": "display_data"
    }
   ],
   "source": [
    "ms_df = ms_df.sum()\n",
    "months = range(1, 13)\n",
    "plt.bar(months, ms_df['Sales'])\n",
    "plt.xticks(months)\n",
    "plt.ylabel('Sales in USD')\n",
    "plt.xlabel('Months')\n",
    "plt.show()"
   ]
  },
  {
   "cell_type": "markdown",
   "id": "368e0473",
   "metadata": {},
   "source": [
    "##  <span style=\"color:green\">Insights:</span>\n",
    "- The best month for sale was December with sales of 4,613,443.34 usd, while the worst month for sales was January with sales of 1,822,256.73 usd"
   ]
  },
  {
   "cell_type": "markdown",
   "id": "bdafc1ca",
   "metadata": {},
   "source": [
    "## <span style=\"color: Red\">Question #2: What city had the highest sales?</span>"
   ]
  },
  {
   "cell_type": "markdown",
   "id": "65356574",
   "metadata": {},
   "source": [
    "### Adding a 'City' column"
   ]
  },
  {
   "cell_type": "code",
   "execution_count": 63,
   "id": "2a088f94",
   "metadata": {},
   "outputs": [],
   "source": [
    "city = []\n",
    "for address in df['Purchase Address']:\n",
    "    cityname = address.split(', ')[1]\n",
    "    code = address.split(', ')[2][:2]\n",
    "    city.append(f\"{cityname}, {code}\")\n",
    "df['City'] = city"
   ]
  },
  {
   "cell_type": "code",
   "execution_count": 69,
   "id": "9f6bed75",
   "metadata": {},
   "outputs": [
    {
     "data": {
      "text/plain": [
       "('8,262,203.91', '449,758.27')"
      ]
     },
     "execution_count": 69,
     "metadata": {},
     "output_type": "execute_result"
    }
   ],
   "source": [
    "max_Sales = df.groupby(\"City\").sum().max()['Sales']\n",
    "min_Sales = df.groupby(\"City\").sum().min()['Sales']\n",
    "\"{:,}\".format(max_Sales), \"{:,}\".format(min_Sales)"
   ]
  },
  {
   "cell_type": "code",
   "execution_count": 66,
   "id": "6989ab3c",
   "metadata": {},
   "outputs": [
    {
     "data": {
      "image/png": "[encoded data removed]",
      "text/plain": [
       "<Figure size 640x480 with 1 Axes>"
      ]
     },
     "metadata": {},
     "output_type": "display_data"
    }
   ],
   "source": [
    "city_df = df.groupby(\"City\").sum()\n",
    "city_names = sorted(df['City'].unique())\n",
    "plt.bar(city_names, city_df['Sales'])\n",
    "plt.xticks(city_names, rotation=90, size=8)\n",
    "plt.ylabel('Sales in USD')\n",
    "plt.xlabel('Cities')\n",
    "plt.show()"
   ]
  },
  {
   "cell_type": "markdown",
   "id": "1fa02bb6",
   "metadata": {},
   "source": [
    "## <span style='color: Green'>Insights:</span>\n",
    "- San Francisco, CA had the highest sales of USD 8,262,203.91. While the lowest sales were of Portland, ME of USD 449,758.27"
   ]
  },
  {
   "cell_type": "markdown",
   "id": "3d649ce2",
   "metadata": {},
   "source": [
    "## <span style='color:Red'>Question #3: What time should we display advertisements to maximize the likelihood of customer's buying products?"
   ]
  },
  {
   "cell_type": "code",
   "execution_count": 82,
   "id": "b64a1444",
   "metadata": {},
   "outputs": [],
   "source": [
    "df['Order Date'] = pd.to_datetime(df['Order Date'])\n",
    "df['Hour'] = df['Order Date'].dt.hour"
   ]
  },
  {
   "cell_type": "code",
   "execution_count": 94,
   "id": "48c88cb8",
   "metadata": {},
   "outputs": [
    {
     "data": {
      "image/png": "[encoded data removed]",
      "text/plain": [
       "<Figure size 640x480 with 1 Axes>"
      ]
     },
     "metadata": {},
     "output_type": "display_data"
    }
   ],
   "source": [
    "hours = range(24)\n",
    "\n",
    "plt.plot(hours, df.groupby(['Hour']).count())\n",
    "plt.xticks(hours)\n",
    "plt.ylabel('No. of Orders')\n",
    "plt.xlabel('Hours')\n",
    "plt.grid()\n",
    "plt.show()"
   ]
  },
  {
   "cell_type": "markdown",
   "id": "7f122dc3",
   "metadata": {},
   "source": [
    "## <span style='color: Green'>Insights:</span>\n",
    "- From the above graph we can see that from 10:30 - 12 and from 17:30 - 20 maximium orders are being placed. So, during this time advertisement will yield maximum orders."
   ]
  },
  {
   "cell_type": "markdown",
   "id": "8ce5cc98",
   "metadata": {},
   "source": [
    "## <span style='color: Red'>Question #3: What products are most often sold together?</span>"
   ]
  },
  {
   "cell_type": "code",
   "execution_count": 106,
   "id": "e0e9d7d6",
   "metadata": {},
   "outputs": [
    {
     "name": "stderr",
     "output_type": "stream",
     "text": [
      "C:\\Users\\Asad Mirza\\AppData\\Local\\Temp\\ipykernel_17092\\225205345.py:2: SettingWithCopyWarning: \n",
      "A value is trying to be set on a copy of a slice from a DataFrame.\n",
      "Try using .loc[row_indexer,col_indexer] = value instead\n",
      "\n",
      "See the caveats in the documentation: https://pandas.pydata.org/pandas-docs/stable/user_guide/indexing.html#returning-a-view-versus-a-copy\n",
      "  bought_together_df['Grouped'] = bought_together_df.groupby('Order ID')['Product'].transform(lambda x: \", \".join(x))\n"
     ]
    },
    {
     "data": {
      "text/html": [
       "<div>\n",
       "<style scoped>\n",
       "    .dataframe tbody tr th:only-of-type {\n",
       "        vertical-align: middle;\n",
       "    }\n",
       "\n",
       "    .dataframe tbody tr th {\n",
       "        vertical-align: top;\n",
       "    }\n",
       "\n",
       "    .dataframe thead th {\n",
       "        text-align: right;\n",
       "    }\n",
       "</style>\n",
       "<table border=\"1\" class=\"dataframe\">\n",
       "  <thead>\n",
       "    <tr style=\"text-align: right;\">\n",
       "      <th></th>\n",
       "      <th>Order ID</th>\n",
       "      <th>Grouped</th>\n",
       "    </tr>\n",
       "  </thead>\n",
       "  <tbody>\n",
       "    <tr>\n",
       "      <th>3</th>\n",
       "      <td>176560</td>\n",
       "      <td>Google Phone, Wired Headphones</td>\n",
       "    </tr>\n",
       "    <tr>\n",
       "      <th>18</th>\n",
       "      <td>176574</td>\n",
       "      <td>Google Phone, USB-C Charging Cable</td>\n",
       "    </tr>\n",
       "    <tr>\n",
       "      <th>30</th>\n",
       "      <td>176585</td>\n",
       "      <td>Bose SoundSport Headphones, Bose SoundSport He...</td>\n",
       "    </tr>\n",
       "    <tr>\n",
       "      <th>32</th>\n",
       "      <td>176586</td>\n",
       "      <td>AAA Batteries (4-pack), Google Phone</td>\n",
       "    </tr>\n",
       "    <tr>\n",
       "      <th>119</th>\n",
       "      <td>176672</td>\n",
       "      <td>Lightning Charging Cable, USB-C Charging Cable</td>\n",
       "    </tr>\n",
       "  </tbody>\n",
       "</table>\n",
       "</div>"
      ],
      "text/plain": [
       "    Order ID                                            Grouped\n",
       "3     176560                     Google Phone, Wired Headphones\n",
       "18    176574                 Google Phone, USB-C Charging Cable\n",
       "30    176585  Bose SoundSport Headphones, Bose SoundSport He...\n",
       "32    176586               AAA Batteries (4-pack), Google Phone\n",
       "119   176672     Lightning Charging Cable, USB-C Charging Cable"
      ]
     },
     "execution_count": 106,
     "metadata": {},
     "output_type": "execute_result"
    }
   ],
   "source": [
    "bought_together_df = df[df['Order ID'].duplicated(keep=False)]\n",
    "bought_together_df['Grouped'] = bought_together_df.groupby('Order ID')['Product'].transform(lambda x: \", \".join(x))\n",
    "\n",
    "bought_together_df = bought_together_df[['Order ID', 'Grouped']].drop_duplicates()\n",
    "bought_together_df.head()"
   ]
  },
  {
   "cell_type": "code",
   "execution_count": 108,
   "id": "8b63bcd9",
   "metadata": {},
   "outputs": [
    {
     "data": {
      "text/plain": [
       "(7136, 2)"
      ]
     },
     "execution_count": 108,
     "metadata": {},
     "output_type": "execute_result"
    }
   ],
   "source": [
    "bought_together_df.shape"
   ]
  },
  {
   "cell_type": "code",
   "execution_count": 119,
   "id": "ca86f274",
   "metadata": {},
   "outputs": [
    {
     "data": {
      "text/plain": [
       "(7910, [(('iPhone', ' Lightning Charging Cable'), 1005)])"
      ]
     },
     "execution_count": 119,
     "metadata": {},
     "output_type": "execute_result"
    }
   ],
   "source": [
    "from itertools import combinations\n",
    "from collections import Counter\n",
    "\n",
    "count = Counter()\n",
    "\n",
    "for row in bought_together_df['Grouped']:\n",
    "    row_list = row.split(',')\n",
    "    count.update(Counter(combinations(row_list, 2)))\n",
    "\n",
    "sum(count.values()) , count.most_common(1)"
   ]
  },
  {
   "cell_type": "markdown",
   "id": "5d9353f8",
   "metadata": {},
   "source": [
    "## <span style='color: Green'>Insights: </span>\n",
    "- There are 7910 such orders in which two products have been bought together.\n",
    "- The most common pair of products bought together are 'Iphone' and 'Lightning Charge Cable', 1005 orders."
   ]
  },
  {
   "cell_type": "markdown",
   "id": "2155c682",
   "metadata": {},
   "source": [
    "## <span style='color:Red'> Question #4: What product sold the most? Why do you think it sold the most?</span>"
   ]
  },
  {
   "cell_type": "code",
   "execution_count": 159,
   "id": "83dc3a33",
   "metadata": {},
   "outputs": [],
   "source": [
    "most_sold_df = df.groupby('Product')\n",
    "quantity = most_sold_df.sum()['Quantity Ordered']\n",
    "products = [product for product, df in most_sold_df]\n",
    "prices = most_sold_df.mean()['Price Each']"
   ]
  },
  {
   "cell_type": "code",
   "execution_count": 173,
   "id": "7f6a5bc7",
   "metadata": {},
   "outputs": [
    {
     "name": "stderr",
     "output_type": "stream",
     "text": [
      "C:\\Users\\Asad Mirza\\AppData\\Local\\Temp\\ipykernel_17092\\1293480863.py:10: UserWarning: FixedFormatter should only be used together with FixedLocator\n",
      "  ax1.set_xticklabels(products, rotation=90, size=6)\n"
     ]
    },
    {
     "data": {
      "image/png": "[encoded data removed]",
      "text/plain": [
       "<Figure size 640x480 with 2 Axes>"
      ]
     },
     "metadata": {},
     "output_type": "display_data"
    }
   ],
   "source": [
    "fig, ax1 = plt.subplots()\n",
    "\n",
    "ax2 = ax1.twinx()\n",
    "ax1.bar(products, quantity)\n",
    "ax2.plot(products, prices, 'lightgreen')\n",
    "\n",
    "ax1.set_xlabel('Products')\n",
    "ax1.set_ylabel('Quantity sold', color = 'blue')\n",
    "ax2.set_ylabel(\"Product Price\", color = 'lightgreen')\n",
    "ax1.set_xticklabels(products, rotation=90, size=6)\n",
    "\n",
    "plt.show()"
   ]
  },
  {
   "cell_type": "markdown",
   "id": "bb25d4b1",
   "metadata": {},
   "source": [
    "## <span style='color: Green'>Insights: </span>\n",
    "- The most sold product is 'AAA Batteries'. While the leas sold product is 'LG Dryer'.\n",
    "- This may be due to the price of these products.\n",
    "- As we can see that the Procduct Price and Quantity Sold follows a negative co-relation as we can observe from the graph. "
   ]
  }
 ],
 "metadata": {
  "kernelspec": {
   "display_name": "Python 3 (ipykernel)",
   "language": "python",
   "name": "python3"
  },
  "language_info": {
   "codemirror_mode": {
    "name": "ipython",
    "version": 3
   },
   "file_extension": ".py",
   "mimetype": "text/x-python",
   "name": "python",
   "nbconvert_exporter": "python",
   "pygments_lexer": "ipython3",
   "version": "3.9.13"
  }
 },
 "nbformat": 4,
 "nbformat_minor": 5
}
